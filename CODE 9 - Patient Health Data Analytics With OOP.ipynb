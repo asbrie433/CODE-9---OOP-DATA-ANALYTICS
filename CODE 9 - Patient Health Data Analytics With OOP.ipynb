{
 "cells": [
  {
   "cell_type": "code",
   "execution_count": 1,
   "id": "e5f4fc8b",
   "metadata": {},
   "outputs": [],
   "source": [
    "class Patients:\n",
    "    def __init__(self, name, age, gender, blood_pressure, temperature):\n",
    "        self.name = name\n",
    "        self.age = age\n",
    "        self.gender = gender\n",
    "        self.blood_pressure = blood_pressure\n",
    "        self.temperature = temperature\n",
    "        \n",
    "    def display_patient_info(self):\n",
    "        print(f\"Name: {self.name}\\nAge: {self.age}\\nGender: {self.gender}\\nBlood Pressure: {self.blood_pressure[0]} / {self.blood_pressure[1]}\\nTemperature: {self.temperature}\")\n",
    "        \n",
    "    def is_hypertensive(self):\n",
    "        systolic, diastolic = self.blood_pressure\n",
    "        return systolic >= 140 or diastolic >= 90 \n",
    "    \n",
    "    def is_feverish(self):\n",
    "        return self.temperature >= 37.5"
   ]
  },
  {
   "cell_type": "code",
   "execution_count": 2,
   "id": "07091c60",
   "metadata": {},
   "outputs": [],
   "source": [
    "# Defining Data\n",
    "patient1 = Patients(\"John Doe\", 45, \"Male\", (140, 85), 36.8)\n",
    "patient2 = Patients(\"Jane Smith\", 32, \"Female\", (130, 88), 37.6)\n"
   ]
  },
  {
   "cell_type": "code",
   "execution_count": 9,
   "id": "4c923035",
   "metadata": {},
   "outputs": [
    {
     "name": "stdout",
     "output_type": "stream",
     "text": [
      "Name: John Doe\n",
      "Age: 45\n",
      "Gender: Male\n",
      "Blood Pressure: 140 / 85\n",
      "Temperature: 36.8\n"
     ]
    }
   ],
   "source": [
    "# Display The Patient Info For Patient 1\n",
    "patient1.display_patient_info()"
   ]
  },
  {
   "cell_type": "code",
   "execution_count": 10,
   "id": "9c9d9c11",
   "metadata": {},
   "outputs": [
    {
     "data": {
      "text/plain": [
       "True"
      ]
     },
     "execution_count": 10,
     "metadata": {},
     "output_type": "execute_result"
    }
   ],
   "source": [
    "# Checking for Hypertension 1\n",
    "patient1.is_hypertensive()"
   ]
  },
  {
   "cell_type": "code",
   "execution_count": 11,
   "id": "10aed659",
   "metadata": {},
   "outputs": [
    {
     "data": {
      "text/plain": [
       "False"
      ]
     },
     "execution_count": 11,
     "metadata": {},
     "output_type": "execute_result"
    }
   ],
   "source": [
    "# Checking for Fever 1\n",
    "patient1.is_feverish()"
   ]
  },
  {
   "cell_type": "code",
   "execution_count": 12,
   "id": "d9c5a42c",
   "metadata": {},
   "outputs": [
    {
     "name": "stdout",
     "output_type": "stream",
     "text": [
      "Name: Jane Smith\n",
      "Age: 32\n",
      "Gender: Female\n",
      "Blood Pressure: 130 / 88\n",
      "Temperature: 37.6\n"
     ]
    }
   ],
   "source": [
    "# Display The Patient Info For Patient 2\n",
    "patient2.display_patient_info()"
   ]
  },
  {
   "cell_type": "code",
   "execution_count": 13,
   "id": "775bd982",
   "metadata": {},
   "outputs": [
    {
     "data": {
      "text/plain": [
       "False"
      ]
     },
     "execution_count": 13,
     "metadata": {},
     "output_type": "execute_result"
    }
   ],
   "source": [
    "# Checking for Hypertension 2\n",
    "patient2.is_hypertensive()"
   ]
  },
  {
   "cell_type": "code",
   "execution_count": 14,
   "id": "d0d9ca8f",
   "metadata": {},
   "outputs": [
    {
     "data": {
      "text/plain": [
       "True"
      ]
     },
     "execution_count": 14,
     "metadata": {},
     "output_type": "execute_result"
    }
   ],
   "source": [
    "# Checking for Fever 2\n",
    "patient2.is_feverish()"
   ]
  }
 ],
 "metadata": {
  "kernelspec": {
   "display_name": "Python 3 (ipykernel)",
   "language": "python",
   "name": "python3"
  },
  "language_info": {
   "codemirror_mode": {
    "name": "ipython",
    "version": 3
   },
   "file_extension": ".py",
   "mimetype": "text/x-python",
   "name": "python",
   "nbconvert_exporter": "python",
   "pygments_lexer": "ipython3",
   "version": "3.11.4"
  }
 },
 "nbformat": 4,
 "nbformat_minor": 5
}
